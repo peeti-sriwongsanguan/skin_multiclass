{
 "cells": [
  {
   "cell_type": "code",
   "execution_count": 2,
   "id": "da3684d7-8b3a-4043-a34b-e5c6c5a7eab2",
   "metadata": {
    "tags": []
   },
   "outputs": [],
   "source": [
    "import numpy as np\n",
    "import pandas as pd\n",
    "import requests\n",
    "import matplotlib.pyplot as plt\n",
    "%matplotlib inline"
   ]
  },
  {
   "cell_type": "code",
   "execution_count": 3,
   "id": "366af033-8842-483d-ab81-08c530cf27ce",
   "metadata": {
    "tags": []
   },
   "outputs": [
    {
     "name": "stdout",
     "output_type": "stream",
     "text": [
      "sagemaker.config INFO - Not applying SDK defaults from location: /etc/xdg/sagemaker/config.yaml\n",
      "sagemaker.config INFO - Not applying SDK defaults from location: /root/.config/sagemaker/config.yaml\n",
      "sagemaker.config INFO - Not applying SDK defaults from location: /etc/xdg/sagemaker/config.yaml\n",
      "sagemaker.config INFO - Not applying SDK defaults from location: /root/.config/sagemaker/config.yaml\n",
      "sagemaker.config INFO - Not applying SDK defaults from location: /etc/xdg/sagemaker/config.yaml\n",
      "sagemaker.config INFO - Not applying SDK defaults from location: /root/.config/sagemaker/config.yaml\n"
     ]
    }
   ],
   "source": [
    "import sagemaker\n",
    "sagemaker_session = sagemaker.Session()\n",
    "role = sagemaker.get_execution_role()"
   ]
  },
  {
   "cell_type": "code",
   "execution_count": 11,
   "id": "ea36e452-6151-4046-8259-2031a699733d",
   "metadata": {
    "tags": []
   },
   "outputs": [
    {
     "name": "stdout",
     "output_type": "stream",
     "text": [
      "Default Bucket:  sagemaker-us-east-1-529165531209\n",
      "AWS Region:  us-east-1\n",
      "RoleArn:  arn:aws:iam::529165531209:role/SagemakerFullAccess\n"
     ]
    }
   ],
   "source": [
    "import boto3\n",
    "import io\n",
    "import pandas as pd\n",
    "\n",
    "s3 = boto3.resource('s3')\n",
    "# bucket_name = 'sagemaker-us-west-2-529165531209'\n",
    "bucket_name = 'sagemaker-us-east-1-529165531209'\n",
    "# file_name = 'sagemaker/bank-additional/bank-additional-full.csv'\n",
    "\n",
    "bucket= sagemaker_session.default_bucket()\n",
    "print(\"Default Bucket: \",bucket)\n",
    "\n",
    "region = sagemaker_session.boto_region_name\n",
    "print(\"AWS Region: \",region)\n",
    "\n",
    "\n",
    "print(\"RoleArn: \",role)"
   ]
  },
  {
   "cell_type": "code",
   "execution_count": 12,
   "id": "0e54e7b3-c44b-416e-abf7-26738ecb4b74",
   "metadata": {
    "tags": []
   },
   "outputs": [
    {
     "name": "stderr",
     "output_type": "stream",
     "text": [
      "INFO:sagemaker.image_uris:Same images used for training and inference. Defaulting to image scope: inference.\n",
      "WARNING:sagemaker.image_uris:Defaulting to the only supported framework/algorithm version: 1. Ignoring framework/algorithm version: latest.\n",
      "INFO:sagemaker.image_uris:Ignoring unnecessary instance type: None.\n"
     ]
    },
    {
     "data": {
      "text/plain": [
       "'811284229777.dkr.ecr.us-east-1.amazonaws.com/image-classification:1'"
      ]
     },
     "execution_count": 12,
     "metadata": {},
     "output_type": "execute_result"
    }
   ],
   "source": [
    "# Use the image_uris function to retrieve the latest 'image-classification' image \n",
    "image_classification_model_image = sagemaker.image_uris.retrieve('image-classification',region,version='latest')\n",
    "s3_path = f\"s3://{bucket}/isic_classification_model_v2\"\n",
    "image_classification_model_image"
   ]
  },
  {
   "cell_type": "code",
   "execution_count": 13,
   "id": "74963b77-bd23-4964-888d-3ec3bdc50649",
   "metadata": {
    "tags": []
   },
   "outputs": [],
   "source": [
    "# metric_definitions=[\n",
    "#     {'Name': 'loss', 'Regex': \"'loss': ([0-9]+(.|e\\-)[0-9]+),?\"},\n",
    "#     {'Name': 'learning_rate', 'Regex': \"'learning_rate': ([0-9]+(.|e\\-)[0-9]+),?\"},\n",
    "#     {'Name': 'eval_loss', 'Regex': \"'eval_loss': ([0-9]+(.|e\\-)[0-9]+),?\"},\n",
    "#     {'Name': 'eval_accuracy', 'Regex': \"'eval_accuracy': ([0-9]+(.|e\\-)[0-9]+),?\"},\n",
    "#     {'Name': 'eval_f1', 'Regex': \"'eval_f1': ([0-9]+(.|e\\-)[0-9]+),?\"},\n",
    "#     {'Name': 'eval_precision', 'Regex': \"'eval_precision': ([0-9]+(.|e\\-)[0-9]+),?\"},\n",
    "#     {'Name': 'eval_recall', 'Regex': \"'eval_recall': ([0-9]+(.|e\\-)[0-9]+),?\"},\n",
    "#     {'Name': 'eval_runtime', 'Regex': \"'eval_runtime': ([0-9]+(.|e\\-)[0-9]+),?\"},\n",
    "#     {'Name': 'eval_samples_per_second', 'Regex': \"'eval_samples_per_second': ([0-9]+(.|e\\-)[0-9]+),?\"},\n",
    "#     {'Name': 'epoch', 'Regex': \"'epoch': ([0-9]+(.|e\\-)[0-9]+),?\"}]"
   ]
  },
  {
   "cell_type": "code",
   "execution_count": 14,
   "id": "cb53c665-d94d-4299-982b-6482cfea31b9",
   "metadata": {
    "tags": []
   },
   "outputs": [],
   "source": [
    "# # Experimenting with different learning rate values\n",
    "# for i, learning_rate in enumerate([3e-5, 4e-5, 5e-5]):\n",
    "#     # create trial\n",
    "#     trial_name = f\"classification-training-job-{learning_rate}-learning-rate-{int(time.time())}\"\n",
    "#     learning_rate_trial_name_map[learning_rate] = trial_name\n",
    "    \n",
    "#     pytorch_estimator = PyTorch(entry_point=\"train_deploy.py\",\n",
    "#                                 source_dir=\"./code\", \n",
    "#                                 role=role,\n",
    "#                                 framework_version=\"1.9\", \n",
    "#                                 py_version=\"py38\",\n",
    "#                                 instance_count=1,                         \n",
    "#                                 instance_type=\"ml.g4dn.xlarge\",\n",
    "#                                 hyperparameters={\n",
    "#                                     \"epochs\": 5,\n",
    "#                                     \"train_batch_size\": 32,\n",
    "#                                     \"checkpoints\": \"/opt/ml/checkpoints/\",\n",
    "#                                     \"model_name\":\"distilbert-base-uncased\",\n",
    "#                                     \"learning_rate\": learning_rate\n",
    "#                                 },\n",
    "#                                 metric_definitions=metric_definitions,\n",
    "#                                )\n",
    "\n",
    "#     bert_training_job_name = \"bert-training-job-{}\".format(int(time.time()))\n",
    "    \n",
    "#     # Now associate the estimator with the Experiment and Trial\n",
    "#     pytorch_estimator.fit(\n",
    "#         inputs={'train': training_input_path, 'test': test_input_path}, job_name=bert_training_job_name,\n",
    "#         experiment_config={\n",
    "#             \"TrialName\": bert_trial.trial_name,\n",
    "#             \"TrialComponentDisplayName\": \"Training\",\n",
    "#         }, wait=False,)"
   ]
  },
  {
   "cell_type": "code",
   "execution_count": null,
   "id": "59c28a95-eeac-4389-9499-13d251139866",
   "metadata": {},
   "outputs": [],
   "source": []
  },
  {
   "cell_type": "code",
   "execution_count": null,
   "id": "3c2c30bc-a881-4b87-9caf-fe0f4ae85abe",
   "metadata": {},
   "outputs": [],
   "source": []
  },
  {
   "cell_type": "code",
   "execution_count": null,
   "id": "940d5f52-cca7-4ccf-bbbf-63f36afe6b55",
   "metadata": {},
   "outputs": [],
   "source": []
  },
  {
   "cell_type": "code",
   "execution_count": 15,
   "id": "4b04f895-052e-4591-8561-2e9d9cbcf502",
   "metadata": {
    "tags": []
   },
   "outputs": [],
   "source": [
    "image_classification_model = sagemaker.estimator.Estimator(\n",
    "    image_uri=image_classification_model_image,\n",
    "    instance_count=1,\n",
    "    instance_type=\"ml.g4dn.xlarge\",\n",
    "    volume_size=50,\n",
    "    max_run=360000,\n",
    "    input_mode=\"File\",\n",
    "    role=role,\n",
    "    output_path=s3_path,\n",
    "    sagemaker_session=sagemaker_session\n",
    ")"
   ]
  },
  {
   "cell_type": "code",
   "execution_count": 16,
   "id": "d740b26f-2c4c-41bd-bf2d-5302110fae2b",
   "metadata": {
    "tags": []
   },
   "outputs": [],
   "source": [
    "# augmentation= True,\n",
    "# optimizer = 'adam',\n",
    "# early_stopping = True,"
   ]
  },
  {
   "cell_type": "code",
   "execution_count": 17,
   "id": "8b786e8a-64ca-4caf-9e71-ecc66ae04468",
   "metadata": {
    "tags": []
   },
   "outputs": [],
   "source": [
    "image_classification_model.set_hyperparameters(\n",
    "    image_shape='3,224,224',\n",
    "    num_classes=8,\n",
    "    num_layers=18,\n",
    "    num_training_samples=1336,\n",
    "    use_pretrained_model=1,\n",
    "    early_stopping=True,\n",
    "    augmentation_type='crop_color_transform',\n",
    "    optimizer='adam',\n",
    "    multi_label=1,\n",
    "    learning_rate=0.001,\n",
    "    epochs=10\n",
    ")"
   ]
  },
  {
   "cell_type": "code",
   "execution_count": 18,
   "id": "8815dfed-6657-4148-bdee-e54f9d78bc24",
   "metadata": {
    "tags": []
   },
   "outputs": [],
   "source": [
    "from sagemaker.debugger import Rule, rule_configs\n",
    "from sagemaker.session import TrainingInput\n",
    "model_inputs = {\n",
    "        \"train\": sagemaker.inputs.TrainingInput(\n",
    "            s3_data=f\"s3://{bucket}/isic/train/\",\n",
    "            content_type=\"application/x-image\"\n",
    "        ),\n",
    "        \"validation\": sagemaker.inputs.TrainingInput(\n",
    "            s3_data=f\"s3://{bucket}/isic/validation/\",\n",
    "            content_type=\"application/x-image\"\n",
    "        ),\n",
    "        \"train_lst\": sagemaker.inputs.TrainingInput(\n",
    "            s3_data=f\"s3://{bucket}/isic/train.lst\",\n",
    "            content_type=\"application/x-image\"\n",
    "        ),\n",
    "        \"validation_lst\": sagemaker.inputs.TrainingInput(\n",
    "            s3_data=f\"s3://{bucket}/isic/validation.lst\",\n",
    "            content_type=\"application/x-image\"\n",
    "        )\n",
    "}"
   ]
  },
  {
   "cell_type": "code",
   "execution_count": 19,
   "id": "74012888-79c6-4de5-847a-275420e48fc0",
   "metadata": {
    "tags": []
   },
   "outputs": [
    {
     "name": "stderr",
     "output_type": "stream",
     "text": [
      "INFO:sagemaker:Creating training-job with name: image-classification-2024-03-18-15-35-55-492\n"
     ]
    },
    {
     "name": "stdout",
     "output_type": "stream",
     "text": [
      "2024-03-18 15:35:55 Starting - Starting the training job...\n",
      "2024-03-18 15:36:11 Starting - Preparing the instances for training...\n",
      "2024-03-18 15:36:48 Downloading - Downloading input data...\n",
      "2024-03-18 15:37:18 Downloading - Downloading the training image.........\n",
      "2024-03-18 15:38:34 Training - Training image download completed. Training in progress.\u001b[34mDocker entrypoint called with argument(s): train\u001b[0m\n",
      "\u001b[34mRunning default environment configuration script\u001b[0m\n",
      "\u001b[34mNvidia gpu devices, drivers and cuda toolkit versions (only available on hosts with GPU):\u001b[0m\n",
      "\u001b[34mMon Mar 18 15:38:44 2024       \u001b[0m\n",
      "\u001b[34m+---------------------------------------------------------------------------------------+\u001b[0m\n",
      "\u001b[34m| NVIDIA-SMI 535.104.12             Driver Version: 535.104.12   CUDA Version: 12.2     |\u001b[0m\n",
      "\u001b[34m|-----------------------------------------+----------------------+----------------------+\u001b[0m\n",
      "\u001b[34m| GPU  Name                 Persistence-M | Bus-Id        Disp.A | Volatile Uncorr. ECC |\u001b[0m\n",
      "\u001b[34m| Fan  Temp   Perf          Pwr:Usage/Cap |         Memory-Usage | GPU-Util  Compute M. |\u001b[0m\n",
      "\u001b[34m|                                         |                      |               MIG M. |\u001b[0m\n",
      "\u001b[34m|=========================================+======================+======================|\u001b[0m\n",
      "\u001b[34m|   0  Tesla T4                       On  | 00000000:00:1E.0 Off |                    0 |\u001b[0m\n",
      "\u001b[34m| N/A   23C    P8               9W /  70W |      2MiB / 15360MiB |      0%      Default |\u001b[0m\n",
      "\u001b[34m|                                         |                      |                  N/A |\u001b[0m\n",
      "\u001b[34m+-----------------------------------------+----------------------+----------------------+\n",
      "                                                                                         \u001b[0m\n",
      "\u001b[34m+---------------------------------------------------------------------------------------+\u001b[0m\n",
      "\u001b[34m| Processes:                                                                            |\u001b[0m\n",
      "\u001b[34m|  GPU   GI   CI        PID   Type   Process name                            GPU Memory |\u001b[0m\n",
      "\u001b[34m|        ID   ID                                                             Usage      |\u001b[0m\n",
      "\u001b[34m|=======================================================================================|\u001b[0m\n",
      "\u001b[34m|  No running processes found                                                           |\u001b[0m\n",
      "\u001b[34m+---------------------------------------------------------------------------------------+\u001b[0m\n",
      "\u001b[34mChecking for nvidia driver and cuda compatibility.\u001b[0m\n",
      "\u001b[34mCUDA Compatibility driver provided.\u001b[0m\n",
      "\u001b[34mProceeding with compatibility check between driver, cuda-toolkit and cuda-compat.\u001b[0m\n",
      "\u001b[34mDetected cuda-toolkit version: 11.1.\u001b[0m\n",
      "\u001b[34mDetected cuda-compat version: 455.32.00.\u001b[0m\n",
      "\u001b[34mDetected Nvidia driver version: 535.104.12.\u001b[0m\n",
      "\u001b[34mNvidia driver compatible with cuda-toolkit. Disabling cuda-compat.\u001b[0m\n",
      "\u001b[34m/opt/amazon/lib/python3.8/site-packages/mxnet/model.py:97: SyntaxWarning: \"is\" with a literal. Did you mean \"==\"?\n",
      "  if num_device is 1 and 'dist' not in kvstore:\u001b[0m\n",
      "\u001b[34m[03/18/2024 15:38:47 INFO 140303730239296] Reading default configuration from /opt/amazon/lib/python3.8/site-packages/image_classification/default-input.json: {'use_pretrained_model': 0, 'num_layers': 152, 'epochs': 30, 'learning_rate': 0.1, 'lr_scheduler_factor': 0.1, 'optimizer': 'sgd', 'momentum': 0, 'weight_decay': 0.0001, 'beta_1': 0.9, 'beta_2': 0.999, 'eps': 1e-08, 'gamma': 0.9, 'mini_batch_size': 32, 'image_shape': '3,224,224', 'precision_dtype': 'float32'}\u001b[0m\n",
      "\u001b[34m[03/18/2024 15:38:47 INFO 140303730239296] Merging with provided configuration from /opt/ml/input/config/hyperparameters.json: {'augmentation_type': 'crop_color_transform', 'early_stopping': 'True', 'epochs': '10', 'image_shape': '3,224,224', 'learning_rate': '0.001', 'multi_label': '1', 'num_classes': '8', 'num_layers': '18', 'num_training_samples': '1336', 'optimizer': 'adam', 'use_pretrained_model': '1'}\u001b[0m\n",
      "\u001b[34m[03/18/2024 15:38:47 INFO 140303730239296] Final configuration: {'use_pretrained_model': '1', 'num_layers': '18', 'epochs': '10', 'learning_rate': '0.001', 'lr_scheduler_factor': 0.1, 'optimizer': 'adam', 'momentum': 0, 'weight_decay': 0.0001, 'beta_1': 0.9, 'beta_2': 0.999, 'eps': 1e-08, 'gamma': 0.9, 'mini_batch_size': 32, 'image_shape': '3,224,224', 'precision_dtype': 'float32', 'augmentation_type': 'crop_color_transform', 'early_stopping': 'True', 'multi_label': '1', 'num_classes': '8', 'num_training_samples': '1336'}\u001b[0m\n",
      "\u001b[34m[03/18/2024 15:38:47 INFO 140303730239296] Searching for .lst files in /opt/ml/input/data/train_lst.\u001b[0m\n",
      "\u001b[34m[03/18/2024 15:38:47 INFO 140303730239296] Creating record files for train.lst\u001b[0m\n",
      "\u001b[34m[03/18/2024 15:38:49 INFO 140303730239296] Done creating record files...\u001b[0m\n",
      "\u001b[34m[03/18/2024 15:38:49 INFO 140303730239296] Searching for .lst files in /opt/ml/input/data/validation_lst.\u001b[0m\n",
      "\u001b[34m[03/18/2024 15:38:49 INFO 140303730239296] Creating record files for validation.lst\u001b[0m\n",
      "\u001b[34m[03/18/2024 15:38:49 INFO 140303730239296] Done creating record files...\u001b[0m\n",
      "\u001b[34m[03/18/2024 15:38:49 INFO 140303730239296] label-format is multi-hot\u001b[0m\n",
      "\u001b[34m[03/18/2024 15:38:49 INFO 140303730239296] use_pretrained_model: 1\u001b[0m\n",
      "\u001b[34m[03/18/2024 15:38:49 INFO 140303730239296] multi_label: 1\u001b[0m\n",
      "\u001b[34m[03/18/2024 15:38:49 INFO 140303730239296] Using pretrained model for initializing weights and transfer learning.\u001b[0m\n",
      "\u001b[34m[03/18/2024 15:38:49 INFO 140303730239296] ---- Parameters ----\u001b[0m\n",
      "\u001b[34m[03/18/2024 15:38:49 INFO 140303730239296] num_layers: 18\u001b[0m\n",
      "\u001b[34m[03/18/2024 15:38:49 INFO 140303730239296] data type: <class 'numpy.float32'>\u001b[0m\n",
      "\u001b[34m[03/18/2024 15:38:49 INFO 140303730239296] epochs: 10\u001b[0m\n",
      "\u001b[34m[03/18/2024 15:38:49 INFO 140303730239296] optimizer: adam\u001b[0m\n",
      "\u001b[34m[03/18/2024 15:38:49 INFO 140303730239296] beta_1: 0.9\u001b[0m\n",
      "\u001b[34m[03/18/2024 15:38:49 INFO 140303730239296] beta_2: 0.999\u001b[0m\n",
      "\u001b[34m[03/18/2024 15:38:49 INFO 140303730239296] eps: 1e-08\u001b[0m\n",
      "\u001b[34m[03/18/2024 15:38:49 INFO 140303730239296] learning_rate: 0.001\u001b[0m\n",
      "\u001b[34m[03/18/2024 15:38:49 INFO 140303730239296] num_training_samples: 1336\u001b[0m\n",
      "\u001b[34m[03/18/2024 15:38:49 INFO 140303730239296] mini_batch_size: 32\u001b[0m\n",
      "\u001b[34m[03/18/2024 15:38:49 INFO 140303730239296] image_shape: 3,224,224\u001b[0m\n",
      "\u001b[34m[03/18/2024 15:38:49 INFO 140303730239296] num_classes: 8\u001b[0m\n",
      "\u001b[34m[03/18/2024 15:38:49 INFO 140303730239296] augmentation_type: crop_color_transform\u001b[0m\n",
      "\u001b[34m[03/18/2024 15:38:49 INFO 140303730239296] kv_store: device\u001b[0m\n",
      "\u001b[34m[03/18/2024 15:38:49 INFO 140303730239296] checkpoint_frequency not set, will store the best model\u001b[0m\n",
      "\u001b[34m[03/18/2024 15:38:49 INFO 140303730239296] Using early stopping for training\u001b[0m\n",
      "\u001b[34m[03/18/2024 15:38:49 INFO 140303730239296] Early stopping minimum epochs: 10\u001b[0m\n",
      "\u001b[34m[03/18/2024 15:38:49 INFO 140303730239296] Early stopping patience: 10\u001b[0m\n",
      "\u001b[34m[03/18/2024 15:38:49 INFO 140303730239296] Early stopping tolerance: 0.01\u001b[0m\n",
      "\u001b[34m[03/18/2024 15:38:49 INFO 140303730239296] --------------------\u001b[0m\n",
      "\u001b[34m[15:38:49] /opt/brazil-pkg-cache/packages/AIAlgorithmsMXNet/AIAlgorithmsMXNet-1.4.x_ecl_Cuda_11.1.x.377.0/AL2_x86_64/generic-flavor/src/src/nnvm/legacy_json_util.cc:209: Loading symbol saved by previous version v0.8.0. Attempting to upgrade...\u001b[0m\n",
      "\u001b[34m[15:38:49] /opt/brazil-pkg-cache/packages/AIAlgorithmsMXNet/AIAlgorithmsMXNet-1.4.x_ecl_Cuda_11.1.x.377.0/AL2_x86_64/generic-flavor/src/src/nnvm/legacy_json_util.cc:217: Symbol successfully upgraded!\u001b[0m\n",
      "\u001b[34m/opt/amazon/python3.8/lib/python3.8/subprocess.py:848: RuntimeWarning: line buffering (buffering=1) isn't supported in binary mode, the default buffer size will be used\n",
      "  self.stdout = io.open(c2pread, 'rb', bufsize)\u001b[0m\n",
      "\u001b[34m[03/18/2024 15:38:49 INFO 140303730239296] Setting number of threads: 3\u001b[0m\n",
      "\u001b[34m[15:38:58] /opt/brazil-pkg-cache/packages/AIAlgorithmsMXNet/AIAlgorithmsMXNet-1.4.x_ecl_Cuda_11.1.x.377.0/AL2_x86_64/generic-flavor/src/src/operator/nn/./cudnn/./cudnn_algoreg-inl.h:97: Running performance tests to find the best convolution algorithm, this can take a while... (setting env variable MXNET_CUDNN_AUTOTUNE_DEFAULT to 0 to disable)\u001b[0m\n",
      "\u001b[34m[03/18/2024 15:39:01 INFO 140303730239296] Epoch[0] Batch [20]#011Speed: 145.441 samples/sec#011accuracy=0.766741\u001b[0m\n",
      "\u001b[34m[03/18/2024 15:39:03 INFO 140303730239296] Epoch[0] Batch [40]#011Speed: 198.316 samples/sec#011accuracy=0.817550\u001b[0m\n",
      "\u001b[34m[03/18/2024 15:39:03 INFO 140303730239296] Epoch[0] Train-accuracy=0.817550\u001b[0m\n",
      "\u001b[34m[03/18/2024 15:39:03 INFO 140303730239296] Epoch[0] Time cost=6.455\u001b[0m\n",
      "\u001b[34m[03/18/2024 15:39:04 INFO 140303730239296] Epoch[0] Validation-accuracy=0.840365\u001b[0m\n",
      "\u001b[34m[03/18/2024 15:39:04 INFO 140303730239296] Storing the best model with validation accuracy: 0.840365\u001b[0m\n",
      "\u001b[34m[03/18/2024 15:39:04 INFO 140303730239296] Saved checkpoint to \"/opt/ml/model/image-classification-0001.params\"\u001b[0m\n",
      "\u001b[34m[03/18/2024 15:39:06 INFO 140303730239296] Epoch[1] Batch [20]#011Speed: 305.301 samples/sec#011accuracy=0.875744\u001b[0m\n",
      "\u001b[34m[03/18/2024 15:39:08 INFO 140303730239296] Epoch[1] Batch [40]#011Speed: 314.835 samples/sec#011accuracy=0.877858\u001b[0m\n",
      "\u001b[34m[03/18/2024 15:39:08 INFO 140303730239296] Epoch[1] Train-accuracy=0.877858\u001b[0m\n",
      "\u001b[34m[03/18/2024 15:39:08 INFO 140303730239296] Epoch[1] Time cost=4.066\u001b[0m\n",
      "\u001b[34m[03/18/2024 15:39:08 INFO 140303730239296] Epoch[1] Validation-accuracy=0.868750\u001b[0m\n",
      "\u001b[34m[03/18/2024 15:39:08 INFO 140303730239296] Storing the best model with validation accuracy: 0.868750\u001b[0m\n",
      "\u001b[34m[03/18/2024 15:39:09 INFO 140303730239296] Saved checkpoint to \"/opt/ml/model/image-classification-0002.params\"\u001b[0m\n",
      "\u001b[34m[03/18/2024 15:39:11 INFO 140303730239296] Epoch[2] Batch [20]#011Speed: 319.650 samples/sec#011accuracy=0.884487\u001b[0m\n",
      "\u001b[34m[03/18/2024 15:39:13 INFO 140303730239296] Epoch[2] Batch [40]#011Speed: 322.164 samples/sec#011accuracy=0.884146\u001b[0m\n",
      "\u001b[34m[03/18/2024 15:39:13 INFO 140303730239296] Epoch[2] Train-accuracy=0.884146\u001b[0m\n",
      "\u001b[34m[03/18/2024 15:39:13 INFO 140303730239296] Epoch[2] Time cost=3.974\u001b[0m\n",
      "\u001b[34m[03/18/2024 15:39:13 INFO 140303730239296] Epoch[2] Validation-accuracy=0.868583\u001b[0m\n",
      "\u001b[34m[03/18/2024 15:39:15 INFO 140303730239296] Epoch[3] Batch [20]#011Speed: 319.030 samples/sec#011accuracy=0.887835\u001b[0m\n",
      "\u001b[34m[03/18/2024 15:39:17 INFO 140303730239296] Epoch[3] Batch [40]#011Speed: 323.044 samples/sec#011accuracy=0.888243\u001b[0m\n",
      "\u001b[34m[03/18/2024 15:39:17 INFO 140303730239296] Epoch[3] Train-accuracy=0.888243\u001b[0m\n",
      "\u001b[34m[03/18/2024 15:39:17 INFO 140303730239296] Epoch[3] Time cost=3.963\u001b[0m\n",
      "\u001b[34m[03/18/2024 15:39:18 INFO 140303730239296] Epoch[3] Validation-accuracy=0.869531\u001b[0m\n",
      "\u001b[34m[03/18/2024 15:39:18 INFO 140303730239296] Storing the best model with validation accuracy: 0.869531\u001b[0m\n",
      "\u001b[34m[03/18/2024 15:39:18 INFO 140303730239296] Saved checkpoint to \"/opt/ml/model/image-classification-0004.params\"\u001b[0m\n",
      "\u001b[34m[03/18/2024 15:39:22 INFO 140303730239296] Epoch[4] Batch [20]#011Speed: 174.931 samples/sec#011accuracy=0.891555\u001b[0m\n",
      "\u001b[34m[03/18/2024 15:39:24 INFO 140303730239296] Epoch[4] Batch [40]#011Speed: 227.545 samples/sec#011accuracy=0.887481\u001b[0m\n",
      "\u001b[34m[03/18/2024 15:39:24 INFO 140303730239296] Epoch[4] Train-accuracy=0.887481\u001b[0m\n",
      "\u001b[34m[03/18/2024 15:39:24 INFO 140303730239296] Epoch[4] Time cost=5.626\u001b[0m\n",
      "\u001b[34m[03/18/2024 15:39:25 INFO 140303730239296] Epoch[4] Validation-accuracy=0.882292\u001b[0m\n",
      "\u001b[34m[03/18/2024 15:39:25 INFO 140303730239296] Storing the best model with validation accuracy: 0.882292\u001b[0m\n",
      "\u001b[34m[03/18/2024 15:39:25 INFO 140303730239296] Saved checkpoint to \"/opt/ml/model/image-classification-0005.params\"\u001b[0m\n",
      "\u001b[34m[03/18/2024 15:39:27 INFO 140303730239296] Epoch[5] Batch [20]#011Speed: 320.109 samples/sec#011accuracy=0.894531\u001b[0m\n",
      "\u001b[34m[03/18/2024 15:39:29 INFO 140303730239296] Epoch[5] Batch [40]#011Speed: 322.521 samples/sec#011accuracy=0.888720\u001b[0m\n",
      "\u001b[34m[03/18/2024 15:39:29 INFO 140303730239296] Epoch[5] Train-accuracy=0.888720\u001b[0m\n",
      "\u001b[34m[03/18/2024 15:39:29 INFO 140303730239296] Epoch[5] Time cost=3.969\u001b[0m\n",
      "\u001b[34m[03/18/2024 15:39:29 INFO 140303730239296] Epoch[5] Validation-accuracy=0.875000\u001b[0m\n",
      "\u001b[34m[03/18/2024 15:39:32 INFO 140303730239296] Epoch[6] Batch [20]#011Speed: 315.077 samples/sec#011accuracy=0.893043\u001b[0m\n",
      "\u001b[34m[03/18/2024 15:39:34 INFO 140303730239296] Epoch[6] Batch [40]#011Speed: 319.209 samples/sec#011accuracy=0.893007\u001b[0m\n",
      "\u001b[34m[03/18/2024 15:39:34 INFO 140303730239296] Epoch[6] Train-accuracy=0.893007\u001b[0m\n",
      "\u001b[34m[03/18/2024 15:39:34 INFO 140303730239296] Epoch[6] Time cost=4.010\u001b[0m\n",
      "\u001b[34m[03/18/2024 15:39:34 INFO 140303730239296] Epoch[6] Validation-accuracy=0.878906\u001b[0m\n",
      "\u001b[34m[03/18/2024 15:39:36 INFO 140303730239296] Epoch[7] Batch [20]#011Speed: 316.496 samples/sec#011accuracy=0.893415\u001b[0m\n",
      "\u001b[34m[03/18/2024 15:39:38 INFO 140303730239296] Epoch[7] Batch [40]#011Speed: 322.381 samples/sec#011accuracy=0.893864\u001b[0m\n",
      "\u001b[34m[03/18/2024 15:39:38 INFO 140303730239296] Epoch[7] Train-accuracy=0.893864\u001b[0m\n",
      "\u001b[34m[03/18/2024 15:39:38 INFO 140303730239296] Epoch[7] Time cost=3.971\u001b[0m\n",
      "\u001b[34m[03/18/2024 15:39:39 INFO 140303730239296] Epoch[7] Validation-accuracy=0.874740\u001b[0m\n",
      "\u001b[34m[03/18/2024 15:39:43 INFO 140303730239296] Epoch[8] Batch [20]#011Speed: 174.168 samples/sec#011accuracy=0.896019\u001b[0m\n",
      "\u001b[34m[03/18/2024 15:39:45 INFO 140303730239296] Epoch[8] Batch [40]#011Speed: 225.906 samples/sec#011accuracy=0.893197\u001b[0m\n",
      "\u001b[34m[03/18/2024 15:39:45 INFO 140303730239296] Epoch[8] Train-accuracy=0.893197\u001b[0m\n",
      "\u001b[34m[03/18/2024 15:39:45 INFO 140303730239296] Epoch[8] Time cost=5.667\u001b[0m\n",
      "\u001b[34m[03/18/2024 15:39:46 INFO 140303730239296] Epoch[8] Validation-accuracy=0.872135\u001b[0m\n",
      "\u001b[34m[03/18/2024 15:39:48 INFO 140303730239296] Epoch[9] Batch [20]#011Speed: 317.804 samples/sec#011accuracy=0.899926\u001b[0m\n",
      "\u001b[34m[03/18/2024 15:39:50 INFO 140303730239296] Epoch[9] Batch [40]#011Speed: 320.204 samples/sec#011accuracy=0.898152\u001b[0m\n",
      "\u001b[34m[03/18/2024 15:39:50 INFO 140303730239296] Epoch[9] Train-accuracy=0.898152\u001b[0m\n",
      "\u001b[34m[03/18/2024 15:39:50 INFO 140303730239296] Epoch[9] Time cost=3.998\u001b[0m\n",
      "\u001b[34m[03/18/2024 15:39:50 INFO 140303730239296] Epoch[9] Validation-accuracy=0.869531\u001b[0m\n",
      "\n",
      "2024-03-18 15:40:10 Uploading - Uploading generated training model\n",
      "2024-03-18 15:40:10 Completed - Training job completed\n",
      "Training seconds: 202\n",
      "Billable seconds: 202\n"
     ]
    }
   ],
   "source": [
    "image_classification_model.fit(model_inputs)"
   ]
  },
  {
   "cell_type": "code",
   "execution_count": 20,
   "id": "71025b1b-a14e-44de-ba75-a2d2cb47ebab",
   "metadata": {
    "tags": []
   },
   "outputs": [
    {
     "name": "stdout",
     "output_type": "stream",
     "text": [
      "sagemaker.config INFO - Not applying SDK defaults from location: /etc/xdg/sagemaker/config.yaml\n",
      "sagemaker.config INFO - Not applying SDK defaults from location: /root/.config/sagemaker/config.yaml\n"
     ]
    },
    {
     "data": {
      "text/html": [
       "<div>\n",
       "<style scoped>\n",
       "    .dataframe tbody tr th:only-of-type {\n",
       "        vertical-align: middle;\n",
       "    }\n",
       "\n",
       "    .dataframe tbody tr th {\n",
       "        vertical-align: top;\n",
       "    }\n",
       "\n",
       "    .dataframe thead th {\n",
       "        text-align: right;\n",
       "    }\n",
       "</style>\n",
       "<table border=\"1\" class=\"dataframe\">\n",
       "  <thead>\n",
       "    <tr style=\"text-align: right;\">\n",
       "      <th></th>\n",
       "      <th>timestamp</th>\n",
       "      <th>metric_name</th>\n",
       "      <th>value</th>\n",
       "    </tr>\n",
       "  </thead>\n",
       "  <tbody>\n",
       "    <tr>\n",
       "      <th>0</th>\n",
       "      <td>0.0</td>\n",
       "      <td>train:accuracy</td>\n",
       "      <td>0.882222</td>\n",
       "    </tr>\n",
       "    <tr>\n",
       "      <th>1</th>\n",
       "      <td>0.0</td>\n",
       "      <td>validation:accuracy</td>\n",
       "      <td>0.869744</td>\n",
       "    </tr>\n",
       "    <tr>\n",
       "      <th>2</th>\n",
       "      <td>0.0</td>\n",
       "      <td>train:accuracy:epoch</td>\n",
       "      <td>0.882222</td>\n",
       "    </tr>\n",
       "    <tr>\n",
       "      <th>3</th>\n",
       "      <td>0.0</td>\n",
       "      <td>validation:accuracy:epoch</td>\n",
       "      <td>0.869744</td>\n",
       "    </tr>\n",
       "  </tbody>\n",
       "</table>\n",
       "</div>"
      ],
      "text/plain": [
       "   timestamp                metric_name     value\n",
       "0        0.0             train:accuracy  0.882222\n",
       "1        0.0        validation:accuracy  0.869744\n",
       "2        0.0       train:accuracy:epoch  0.882222\n",
       "3        0.0  validation:accuracy:epoch  0.869744"
      ]
     },
     "execution_count": 20,
     "metadata": {},
     "output_type": "execute_result"
    }
   ],
   "source": [
    "from sagemaker import TrainingJobAnalytics\n",
    "\n",
    "# Captured metrics can be accessed as a Pandas dataframe\n",
    "df = TrainingJobAnalytics(training_job_name=image_classification_model.latest_training_job.name).dataframe()\n",
    "df.head(10)"
   ]
  },
  {
   "cell_type": "code",
   "execution_count": null,
   "id": "6123f220-20e7-4ddb-a572-514f5f3ac0b3",
   "metadata": {},
   "outputs": [],
   "source": []
  },
  {
   "cell_type": "code",
   "execution_count": null,
   "id": "d3089f0b-a17b-4ec8-87a8-41a5a5a1791c",
   "metadata": {},
   "outputs": [],
   "source": []
  },
  {
   "cell_type": "code",
   "execution_count": null,
   "id": "7d71ac23-232d-4688-9359-61df34fe697e",
   "metadata": {},
   "outputs": [],
   "source": []
  },
  {
   "cell_type": "code",
   "execution_count": 21,
   "id": "9f0a4a2b-97f3-44d4-b4ed-12d4b4e76014",
   "metadata": {
    "tags": []
   },
   "outputs": [
    {
     "name": "stderr",
     "output_type": "stream",
     "text": [
      "INFO:sagemaker:Creating model with name: image-classification-2024-03-18-15-40-59-783\n",
      "INFO:sagemaker:Creating endpoint-config with name image-classification-2024-03-18-15-40-59-783\n",
      "INFO:sagemaker:Creating endpoint with name image-classification-2024-03-18-15-40-59-783\n"
     ]
    },
    {
     "name": "stdout",
     "output_type": "stream",
     "text": [
      "-------!image-classification-2024-03-18-15-40-59-783\n"
     ]
    }
   ],
   "source": [
    "from sagemaker.serializers import IdentitySerializer\n",
    "\n",
    "deployment = image_classification_model.deploy(\n",
    "    initial_instance_count=1, instance_type='ml.m5.xlarge',\n",
    "    serializer=IdentitySerializer(content_type=\"application/x-image\")\n",
    "    )\n",
    "\n",
    "endpoint = deployment.endpoint_name\n",
    "print(endpoint)"
   ]
  },
  {
   "cell_type": "markdown",
   "id": "5ec65bae-753c-4673-9977-42c322ddc0dd",
   "metadata": {},
   "source": [
    "The below function randomly selects an object from test folder and stores it locally in a tmp folder for making predictions."
   ]
  },
  {
   "cell_type": "code",
   "execution_count": 13,
   "id": "be81409d-04dd-4643-a145-09263dd859a2",
   "metadata": {
    "tags": []
   },
   "outputs": [
    {
     "name": "stdout",
     "output_type": "stream",
     "text": [
      "File selected: isic/test/ISIC_0032694.jpg\n",
      "File downloaded to: tmp/ISIC_0032694.jpg\n"
     ]
    }
   ],
   "source": [
    "# import os\n",
    "# import boto3\n",
    "# import random\n",
    "\n",
    "# # Create the 'tmp' folder if it doesn't exist\n",
    "# if not os.path.exists('tmp'):\n",
    "#     os.makedirs('tmp')\n",
    "\n",
    "# # Define the S3 bucket name\n",
    "# bucket = 'sagemaker-us-east-1-529165531209'  # Replace 'your_bucket_name_here' with your actual bucket name\n",
    "\n",
    "# # Initialize S3 client\n",
    "# s3_client = boto3.client('s3')\n",
    "\n",
    "# # List objects in the bucket with the specified prefix\n",
    "# objects = s3_client.list_objects(Bucket=bucket, Prefix=\"isic/test\")\n",
    "\n",
    "# # Check if any objects are found\n",
    "# if 'Contents' in objects:\n",
    "#     # Select a random object\n",
    "#     obj = random.choice(objects['Contents'])\n",
    "    \n",
    "#     # Extract the key (filename) of the selected object\n",
    "#     obj_key = obj['Key']\n",
    "#     print('File selected:', obj_key)\n",
    "\n",
    "#     # Download the selected file to the 'tmp' folder\n",
    "#     local_file_path = os.path.join('tmp', os.path.basename(obj_key))\n",
    "#     s3_client.download_file(bucket, obj_key, local_file_path)\n",
    "#     print(f\"File downloaded to: {local_file_path}\")\n",
    "# else:\n",
    "#     print(\"No objects found in the specified prefix.\")\n"
   ]
  },
  {
   "cell_type": "code",
   "execution_count": 22,
   "id": "5deb2e2b-fab8-4ac8-a06a-71f9d301e0f4",
   "metadata": {
    "tags": []
   },
   "outputs": [
    {
     "name": "stdout",
     "output_type": "stream",
     "text": [
      "File selected  isic/test/ISIC_0032694.jpg\n"
     ]
    }
   ],
   "source": [
    "from sagemaker.serializers import IdentitySerializer\n",
    "import boto3\n",
    "import random\n",
    "import os\n",
    "\n",
    "s3_resource = boto3.resource('s3')\n",
    "objects = s3_resource.Bucket(bucket).objects.filter(Prefix=\"isic/test\")\n",
    "obj = random.choice([x.key for x in objects])\n",
    "print('File selected ',obj)\n",
    "\n",
    "s3_client = boto3.client('s3')\n",
    "\n",
    "s3_client.download_file(bucket, obj, 'tmp/ISIC_0031442.jpg')\n",
    "    "
   ]
  },
  {
   "cell_type": "markdown",
   "id": "27e15a95-1f1d-4c6b-8bc0-e292d9ff86c8",
   "metadata": {},
   "source": [
    "Create the predictor object for making predictions. You should pass the name of the endpoint and the session variable as parameters. IdentitySerializer helps in serializing the input for the inference endpoint and here we will specify the file type. We would have already specified the serializer in the deployment function. Both ways are acceptable.\n",
    "\n",
    "The predictor will return all class probabilites as the output. Class label for the input image corresponds to the index of the highest probability value in the list."
   ]
  },
  {
   "cell_type": "code",
   "execution_count": 23,
   "id": "882604dd-370e-4fb8-b23f-5d1bfa1700ee",
   "metadata": {
    "tags": []
   },
   "outputs": [
    {
     "name": "stdout",
     "output_type": "stream",
     "text": [
      "[0.15596523880958557, 0.10141623020172119, 0.06214269623160362, 0.1341080218553543, 0.1381928026676178, 0.08245861530303955, 0.16806834936141968, 0.016300315037369728]\n"
     ]
    }
   ],
   "source": [
    "predictor = sagemaker.predictor.Predictor(endpoint_name=endpoint,\n",
    "                                         sagemaker_session=sagemaker_session)\n",
    "\n",
    "predictor.serializer = IdentitySerializer(\"image/png\")\n",
    "\n",
    "with open(\"tmp/ISIC_0031442.jpg\", \"rb\") as f:\n",
    "    image = f.read()\n",
    "\n",
    "    \n",
    "result = predictor.predict(image)\n",
    "print(result.decode('utf-8'))"
   ]
  },
  {
   "cell_type": "markdown",
   "id": "ed2cdd27-81c5-4ec0-b812-4679c614ef66",
   "metadata": {},
   "source": [
    "There is an alternate way for getting predictions and this method would be handy while deploying the model in lambda function. We can make predictions by the invoke_endpoint method of the runtime object."
   ]
  },
  {
   "cell_type": "code",
   "execution_count": 24,
   "id": "7e8deeb7-17ba-4d74-a505-029e293f31b5",
   "metadata": {},
   "outputs": [
    {
     "name": "stdout",
     "output_type": "stream",
     "text": [
      "[0.15596523880958557, 0.10141623020172119, 0.06214269623160362, 0.1341080218553543, 0.1381928026676178, 0.08245861530303955, 0.16806834936141968, 0.016300315037369728]\n"
     ]
    }
   ],
   "source": [
    "import json\n",
    "runtime= boto3.client('runtime.sagemaker')\n",
    "\n",
    "response = runtime.invoke_endpoint(EndpointName=endpoint,\n",
    "                                       ContentType='image/png',\n",
    "                                       Body=image)\n",
    "\n",
    "result = json.loads(response['Body'].read().decode())\n",
    "    \n",
    "print(result)"
   ]
  },
  {
   "cell_type": "code",
   "execution_count": 25,
   "id": "b5103633-2a05-4b43-b7a4-4ae2558607b2",
   "metadata": {},
   "outputs": [
    {
     "name": "stdout",
     "output_type": "stream",
     "text": [
      "actinic keratoses 15.6% basal cell carcinoma 10.14% dermatofibroma 6.21% keratosis 13.41% melanoma 13.82% nevus 8.25% squamous cell carcinoma 16.81% vascular skin 1.63% "
     ]
    }
   ],
   "source": [
    "classes = ['actinic keratoses','basal cell carcinoma','dermatofibroma','keratosis','melanoma','nevus',\n",
    "               'squamous cell carcinoma','vascular skin']\n",
    "for i, val in enumerate(classes):\n",
    "    print(classes[i], round(result[i]*100,2), end=\"% \")"
   ]
  },
  {
   "cell_type": "markdown",
   "id": "a991341e-4e63-413c-b08a-f6212541d9fc",
   "metadata": {},
   "source": [
    "The model predicted 98% vascular skin however, ISIC_0031442.jpg\tis labeled as basal cell carcinoma"
   ]
  },
  {
   "cell_type": "markdown",
   "id": "150fc233-332f-4d1c-af94-c0561ad1a980",
   "metadata": {},
   "source": [
    "# delete endpoint"
   ]
  },
  {
   "cell_type": "code",
   "execution_count": 26,
   "id": "8c5e4358-ad5d-4ca9-8db8-5d0b3fbbabf2",
   "metadata": {},
   "outputs": [
    {
     "name": "stdout",
     "output_type": "stream",
     "text": [
      "sagemaker.config INFO - Not applying SDK defaults from location: /etc/xdg/sagemaker/config.yaml\n",
      "sagemaker.config INFO - Not applying SDK defaults from location: /root/.config/sagemaker/config.yaml\n"
     ]
    },
    {
     "name": "stderr",
     "output_type": "stream",
     "text": [
      "INFO:sagemaker:Deleting endpoint with name: image-classification-2024-03-18-15-40-59-783\n"
     ]
    }
   ],
   "source": [
    "sagemaker.Session().delete_endpoint(predictor.endpoint_name)"
   ]
  },
  {
   "cell_type": "code",
   "execution_count": null,
   "id": "43f428e0-7bcf-4435-ae22-534469171c98",
   "metadata": {},
   "outputs": [],
   "source": []
  }
 ],
 "metadata": {
  "availableInstances": [
   {
    "_defaultOrder": 0,
    "_isFastLaunch": true,
    "category": "General purpose",
    "gpuNum": 0,
    "hideHardwareSpecs": false,
    "memoryGiB": 4,
    "name": "ml.t3.medium",
    "vcpuNum": 2
   },
   {
    "_defaultOrder": 1,
    "_isFastLaunch": false,
    "category": "General purpose",
    "gpuNum": 0,
    "hideHardwareSpecs": false,
    "memoryGiB": 8,
    "name": "ml.t3.large",
    "vcpuNum": 2
   },
   {
    "_defaultOrder": 2,
    "_isFastLaunch": false,
    "category": "General purpose",
    "gpuNum": 0,
    "hideHardwareSpecs": false,
    "memoryGiB": 16,
    "name": "ml.t3.xlarge",
    "vcpuNum": 4
   },
   {
    "_defaultOrder": 3,
    "_isFastLaunch": false,
    "category": "General purpose",
    "gpuNum": 0,
    "hideHardwareSpecs": false,
    "memoryGiB": 32,
    "name": "ml.t3.2xlarge",
    "vcpuNum": 8
   },
   {
    "_defaultOrder": 4,
    "_isFastLaunch": true,
    "category": "General purpose",
    "gpuNum": 0,
    "hideHardwareSpecs": false,
    "memoryGiB": 8,
    "name": "ml.m5.large",
    "vcpuNum": 2
   },
   {
    "_defaultOrder": 5,
    "_isFastLaunch": false,
    "category": "General purpose",
    "gpuNum": 0,
    "hideHardwareSpecs": false,
    "memoryGiB": 16,
    "name": "ml.m5.xlarge",
    "vcpuNum": 4
   },
   {
    "_defaultOrder": 6,
    "_isFastLaunch": false,
    "category": "General purpose",
    "gpuNum": 0,
    "hideHardwareSpecs": false,
    "memoryGiB": 32,
    "name": "ml.m5.2xlarge",
    "vcpuNum": 8
   },
   {
    "_defaultOrder": 7,
    "_isFastLaunch": false,
    "category": "General purpose",
    "gpuNum": 0,
    "hideHardwareSpecs": false,
    "memoryGiB": 64,
    "name": "ml.m5.4xlarge",
    "vcpuNum": 16
   },
   {
    "_defaultOrder": 8,
    "_isFastLaunch": false,
    "category": "General purpose",
    "gpuNum": 0,
    "hideHardwareSpecs": false,
    "memoryGiB": 128,
    "name": "ml.m5.8xlarge",
    "vcpuNum": 32
   },
   {
    "_defaultOrder": 9,
    "_isFastLaunch": false,
    "category": "General purpose",
    "gpuNum": 0,
    "hideHardwareSpecs": false,
    "memoryGiB": 192,
    "name": "ml.m5.12xlarge",
    "vcpuNum": 48
   },
   {
    "_defaultOrder": 10,
    "_isFastLaunch": false,
    "category": "General purpose",
    "gpuNum": 0,
    "hideHardwareSpecs": false,
    "memoryGiB": 256,
    "name": "ml.m5.16xlarge",
    "vcpuNum": 64
   },
   {
    "_defaultOrder": 11,
    "_isFastLaunch": false,
    "category": "General purpose",
    "gpuNum": 0,
    "hideHardwareSpecs": false,
    "memoryGiB": 384,
    "name": "ml.m5.24xlarge",
    "vcpuNum": 96
   },
   {
    "_defaultOrder": 12,
    "_isFastLaunch": false,
    "category": "General purpose",
    "gpuNum": 0,
    "hideHardwareSpecs": false,
    "memoryGiB": 8,
    "name": "ml.m5d.large",
    "vcpuNum": 2
   },
   {
    "_defaultOrder": 13,
    "_isFastLaunch": false,
    "category": "General purpose",
    "gpuNum": 0,
    "hideHardwareSpecs": false,
    "memoryGiB": 16,
    "name": "ml.m5d.xlarge",
    "vcpuNum": 4
   },
   {
    "_defaultOrder": 14,
    "_isFastLaunch": false,
    "category": "General purpose",
    "gpuNum": 0,
    "hideHardwareSpecs": false,
    "memoryGiB": 32,
    "name": "ml.m5d.2xlarge",
    "vcpuNum": 8
   },
   {
    "_defaultOrder": 15,
    "_isFastLaunch": false,
    "category": "General purpose",
    "gpuNum": 0,
    "hideHardwareSpecs": false,
    "memoryGiB": 64,
    "name": "ml.m5d.4xlarge",
    "vcpuNum": 16
   },
   {
    "_defaultOrder": 16,
    "_isFastLaunch": false,
    "category": "General purpose",
    "gpuNum": 0,
    "hideHardwareSpecs": false,
    "memoryGiB": 128,
    "name": "ml.m5d.8xlarge",
    "vcpuNum": 32
   },
   {
    "_defaultOrder": 17,
    "_isFastLaunch": false,
    "category": "General purpose",
    "gpuNum": 0,
    "hideHardwareSpecs": false,
    "memoryGiB": 192,
    "name": "ml.m5d.12xlarge",
    "vcpuNum": 48
   },
   {
    "_defaultOrder": 18,
    "_isFastLaunch": false,
    "category": "General purpose",
    "gpuNum": 0,
    "hideHardwareSpecs": false,
    "memoryGiB": 256,
    "name": "ml.m5d.16xlarge",
    "vcpuNum": 64
   },
   {
    "_defaultOrder": 19,
    "_isFastLaunch": false,
    "category": "General purpose",
    "gpuNum": 0,
    "hideHardwareSpecs": false,
    "memoryGiB": 384,
    "name": "ml.m5d.24xlarge",
    "vcpuNum": 96
   },
   {
    "_defaultOrder": 20,
    "_isFastLaunch": false,
    "category": "General purpose",
    "gpuNum": 0,
    "hideHardwareSpecs": true,
    "memoryGiB": 0,
    "name": "ml.geospatial.interactive",
    "supportedImageNames": [
     "sagemaker-geospatial-v1-0"
    ],
    "vcpuNum": 0
   },
   {
    "_defaultOrder": 21,
    "_isFastLaunch": true,
    "category": "Compute optimized",
    "gpuNum": 0,
    "hideHardwareSpecs": false,
    "memoryGiB": 4,
    "name": "ml.c5.large",
    "vcpuNum": 2
   },
   {
    "_defaultOrder": 22,
    "_isFastLaunch": false,
    "category": "Compute optimized",
    "gpuNum": 0,
    "hideHardwareSpecs": false,
    "memoryGiB": 8,
    "name": "ml.c5.xlarge",
    "vcpuNum": 4
   },
   {
    "_defaultOrder": 23,
    "_isFastLaunch": false,
    "category": "Compute optimized",
    "gpuNum": 0,
    "hideHardwareSpecs": false,
    "memoryGiB": 16,
    "name": "ml.c5.2xlarge",
    "vcpuNum": 8
   },
   {
    "_defaultOrder": 24,
    "_isFastLaunch": false,
    "category": "Compute optimized",
    "gpuNum": 0,
    "hideHardwareSpecs": false,
    "memoryGiB": 32,
    "name": "ml.c5.4xlarge",
    "vcpuNum": 16
   },
   {
    "_defaultOrder": 25,
    "_isFastLaunch": false,
    "category": "Compute optimized",
    "gpuNum": 0,
    "hideHardwareSpecs": false,
    "memoryGiB": 72,
    "name": "ml.c5.9xlarge",
    "vcpuNum": 36
   },
   {
    "_defaultOrder": 26,
    "_isFastLaunch": false,
    "category": "Compute optimized",
    "gpuNum": 0,
    "hideHardwareSpecs": false,
    "memoryGiB": 96,
    "name": "ml.c5.12xlarge",
    "vcpuNum": 48
   },
   {
    "_defaultOrder": 27,
    "_isFastLaunch": false,
    "category": "Compute optimized",
    "gpuNum": 0,
    "hideHardwareSpecs": false,
    "memoryGiB": 144,
    "name": "ml.c5.18xlarge",
    "vcpuNum": 72
   },
   {
    "_defaultOrder": 28,
    "_isFastLaunch": false,
    "category": "Compute optimized",
    "gpuNum": 0,
    "hideHardwareSpecs": false,
    "memoryGiB": 192,
    "name": "ml.c5.24xlarge",
    "vcpuNum": 96
   },
   {
    "_defaultOrder": 29,
    "_isFastLaunch": true,
    "category": "Accelerated computing",
    "gpuNum": 1,
    "hideHardwareSpecs": false,
    "memoryGiB": 16,
    "name": "ml.g4dn.xlarge",
    "vcpuNum": 4
   },
   {
    "_defaultOrder": 30,
    "_isFastLaunch": false,
    "category": "Accelerated computing",
    "gpuNum": 1,
    "hideHardwareSpecs": false,
    "memoryGiB": 32,
    "name": "ml.g4dn.2xlarge",
    "vcpuNum": 8
   },
   {
    "_defaultOrder": 31,
    "_isFastLaunch": false,
    "category": "Accelerated computing",
    "gpuNum": 1,
    "hideHardwareSpecs": false,
    "memoryGiB": 64,
    "name": "ml.g4dn.4xlarge",
    "vcpuNum": 16
   },
   {
    "_defaultOrder": 32,
    "_isFastLaunch": false,
    "category": "Accelerated computing",
    "gpuNum": 1,
    "hideHardwareSpecs": false,
    "memoryGiB": 128,
    "name": "ml.g4dn.8xlarge",
    "vcpuNum": 32
   },
   {
    "_defaultOrder": 33,
    "_isFastLaunch": false,
    "category": "Accelerated computing",
    "gpuNum": 4,
    "hideHardwareSpecs": false,
    "memoryGiB": 192,
    "name": "ml.g4dn.12xlarge",
    "vcpuNum": 48
   },
   {
    "_defaultOrder": 34,
    "_isFastLaunch": false,
    "category": "Accelerated computing",
    "gpuNum": 1,
    "hideHardwareSpecs": false,
    "memoryGiB": 256,
    "name": "ml.g4dn.16xlarge",
    "vcpuNum": 64
   },
   {
    "_defaultOrder": 35,
    "_isFastLaunch": false,
    "category": "Accelerated computing",
    "gpuNum": 1,
    "hideHardwareSpecs": false,
    "memoryGiB": 61,
    "name": "ml.p3.2xlarge",
    "vcpuNum": 8
   },
   {
    "_defaultOrder": 36,
    "_isFastLaunch": false,
    "category": "Accelerated computing",
    "gpuNum": 4,
    "hideHardwareSpecs": false,
    "memoryGiB": 244,
    "name": "ml.p3.8xlarge",
    "vcpuNum": 32
   },
   {
    "_defaultOrder": 37,
    "_isFastLaunch": false,
    "category": "Accelerated computing",
    "gpuNum": 8,
    "hideHardwareSpecs": false,
    "memoryGiB": 488,
    "name": "ml.p3.16xlarge",
    "vcpuNum": 64
   },
   {
    "_defaultOrder": 38,
    "_isFastLaunch": false,
    "category": "Accelerated computing",
    "gpuNum": 8,
    "hideHardwareSpecs": false,
    "memoryGiB": 768,
    "name": "ml.p3dn.24xlarge",
    "vcpuNum": 96
   },
   {
    "_defaultOrder": 39,
    "_isFastLaunch": false,
    "category": "Memory Optimized",
    "gpuNum": 0,
    "hideHardwareSpecs": false,
    "memoryGiB": 16,
    "name": "ml.r5.large",
    "vcpuNum": 2
   },
   {
    "_defaultOrder": 40,
    "_isFastLaunch": false,
    "category": "Memory Optimized",
    "gpuNum": 0,
    "hideHardwareSpecs": false,
    "memoryGiB": 32,
    "name": "ml.r5.xlarge",
    "vcpuNum": 4
   },
   {
    "_defaultOrder": 41,
    "_isFastLaunch": false,
    "category": "Memory Optimized",
    "gpuNum": 0,
    "hideHardwareSpecs": false,
    "memoryGiB": 64,
    "name": "ml.r5.2xlarge",
    "vcpuNum": 8
   },
   {
    "_defaultOrder": 42,
    "_isFastLaunch": false,
    "category": "Memory Optimized",
    "gpuNum": 0,
    "hideHardwareSpecs": false,
    "memoryGiB": 128,
    "name": "ml.r5.4xlarge",
    "vcpuNum": 16
   },
   {
    "_defaultOrder": 43,
    "_isFastLaunch": false,
    "category": "Memory Optimized",
    "gpuNum": 0,
    "hideHardwareSpecs": false,
    "memoryGiB": 256,
    "name": "ml.r5.8xlarge",
    "vcpuNum": 32
   },
   {
    "_defaultOrder": 44,
    "_isFastLaunch": false,
    "category": "Memory Optimized",
    "gpuNum": 0,
    "hideHardwareSpecs": false,
    "memoryGiB": 384,
    "name": "ml.r5.12xlarge",
    "vcpuNum": 48
   },
   {
    "_defaultOrder": 45,
    "_isFastLaunch": false,
    "category": "Memory Optimized",
    "gpuNum": 0,
    "hideHardwareSpecs": false,
    "memoryGiB": 512,
    "name": "ml.r5.16xlarge",
    "vcpuNum": 64
   },
   {
    "_defaultOrder": 46,
    "_isFastLaunch": false,
    "category": "Memory Optimized",
    "gpuNum": 0,
    "hideHardwareSpecs": false,
    "memoryGiB": 768,
    "name": "ml.r5.24xlarge",
    "vcpuNum": 96
   },
   {
    "_defaultOrder": 47,
    "_isFastLaunch": false,
    "category": "Accelerated computing",
    "gpuNum": 1,
    "hideHardwareSpecs": false,
    "memoryGiB": 16,
    "name": "ml.g5.xlarge",
    "vcpuNum": 4
   },
   {
    "_defaultOrder": 48,
    "_isFastLaunch": false,
    "category": "Accelerated computing",
    "gpuNum": 1,
    "hideHardwareSpecs": false,
    "memoryGiB": 32,
    "name": "ml.g5.2xlarge",
    "vcpuNum": 8
   },
   {
    "_defaultOrder": 49,
    "_isFastLaunch": false,
    "category": "Accelerated computing",
    "gpuNum": 1,
    "hideHardwareSpecs": false,
    "memoryGiB": 64,
    "name": "ml.g5.4xlarge",
    "vcpuNum": 16
   },
   {
    "_defaultOrder": 50,
    "_isFastLaunch": false,
    "category": "Accelerated computing",
    "gpuNum": 1,
    "hideHardwareSpecs": false,
    "memoryGiB": 128,
    "name": "ml.g5.8xlarge",
    "vcpuNum": 32
   },
   {
    "_defaultOrder": 51,
    "_isFastLaunch": false,
    "category": "Accelerated computing",
    "gpuNum": 1,
    "hideHardwareSpecs": false,
    "memoryGiB": 256,
    "name": "ml.g5.16xlarge",
    "vcpuNum": 64
   },
   {
    "_defaultOrder": 52,
    "_isFastLaunch": false,
    "category": "Accelerated computing",
    "gpuNum": 4,
    "hideHardwareSpecs": false,
    "memoryGiB": 192,
    "name": "ml.g5.12xlarge",
    "vcpuNum": 48
   },
   {
    "_defaultOrder": 53,
    "_isFastLaunch": false,
    "category": "Accelerated computing",
    "gpuNum": 4,
    "hideHardwareSpecs": false,
    "memoryGiB": 384,
    "name": "ml.g5.24xlarge",
    "vcpuNum": 96
   },
   {
    "_defaultOrder": 54,
    "_isFastLaunch": false,
    "category": "Accelerated computing",
    "gpuNum": 8,
    "hideHardwareSpecs": false,
    "memoryGiB": 768,
    "name": "ml.g5.48xlarge",
    "vcpuNum": 192
   },
   {
    "_defaultOrder": 55,
    "_isFastLaunch": false,
    "category": "Accelerated computing",
    "gpuNum": 8,
    "hideHardwareSpecs": false,
    "memoryGiB": 1152,
    "name": "ml.p4d.24xlarge",
    "vcpuNum": 96
   },
   {
    "_defaultOrder": 56,
    "_isFastLaunch": false,
    "category": "Accelerated computing",
    "gpuNum": 8,
    "hideHardwareSpecs": false,
    "memoryGiB": 1152,
    "name": "ml.p4de.24xlarge",
    "vcpuNum": 96
   },
   {
    "_defaultOrder": 57,
    "_isFastLaunch": false,
    "category": "Accelerated computing",
    "gpuNum": 0,
    "hideHardwareSpecs": false,
    "memoryGiB": 32,
    "name": "ml.trn1.2xlarge",
    "vcpuNum": 8
   },
   {
    "_defaultOrder": 58,
    "_isFastLaunch": false,
    "category": "Accelerated computing",
    "gpuNum": 0,
    "hideHardwareSpecs": false,
    "memoryGiB": 512,
    "name": "ml.trn1.32xlarge",
    "vcpuNum": 128
   },
   {
    "_defaultOrder": 59,
    "_isFastLaunch": false,
    "category": "Accelerated computing",
    "gpuNum": 0,
    "hideHardwareSpecs": false,
    "memoryGiB": 512,
    "name": "ml.trn1n.32xlarge",
    "vcpuNum": 128
   }
  ],
  "instance_type": "ml.t3.medium",
  "kernelspec": {
   "display_name": "Python 3 (Data Science 3.0)",
   "language": "python",
   "name": "python3__SAGEMAKER_INTERNAL__arn:aws:sagemaker:us-east-1:081325390199:image/sagemaker-data-science-310-v1"
  },
  "language_info": {
   "codemirror_mode": {
    "name": "ipython",
    "version": 3
   },
   "file_extension": ".py",
   "mimetype": "text/x-python",
   "name": "python",
   "nbconvert_exporter": "python",
   "pygments_lexer": "ipython3",
   "version": "3.10.6"
  }
 },
 "nbformat": 4,
 "nbformat_minor": 5
}
